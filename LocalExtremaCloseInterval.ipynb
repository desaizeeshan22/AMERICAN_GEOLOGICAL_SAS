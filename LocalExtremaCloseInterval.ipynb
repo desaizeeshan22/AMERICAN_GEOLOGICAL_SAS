{
  "nbformat": 4,
  "nbformat_minor": 0,
  "metadata": {
    "colab": {
      "provenance": [],
      "authorship_tag": "ABX9TyPxW7XAbYiqpeFx4ogJk8d/",
      "include_colab_link": true
    },
    "kernelspec": {
      "name": "python3",
      "display_name": "Python 3"
    },
    "language_info": {
      "name": "python"
    }
  },
  "cells": [
    {
      "cell_type": "markdown",
      "metadata": {
        "id": "view-in-github",
        "colab_type": "text"
      },
      "source": [
        "<a href=\"https://colab.research.google.com/github/desaizeeshan22/AMERICAN_GEOLOGICAL_SAS/blob/master/LocalExtremaCloseInterval.ipynb\" target=\"_parent\"><img src=\"https://colab.research.google.com/assets/colab-badge.svg\" alt=\"Open In Colab\"/></a>"
      ]
    },
    {
      "cell_type": "code",
      "execution_count": 1,
      "metadata": {
        "id": "LuRv4yU86SL6"
      },
      "outputs": [],
      "source": [
        "import sympy"
      ]
    },
    {
      "cell_type": "code",
      "source": [
        "x=sympy.Symbol('x')"
      ],
      "metadata": {
        "id": "Og-wkxet6aJ2"
      },
      "execution_count": 2,
      "outputs": []
    },
    {
      "cell_type": "code",
      "source": [
        "def extremas(f,a,b):\n",
        "  vals=[]\n",
        "  differential=sympy.diff(f,x)\n",
        "  v1=f.subs({x:a})\n",
        "  v2=f.subs({x:b})\n",
        "  vals.append([a,v1])\n",
        "  vals.append([b,v2])\n",
        "  critical_points=sympy.solveset(sympy.Eq(differential,0))\n",
        "\n",
        "  for v in critical_points:\n",
        "      vals.append([v,f.subs({x:v})])\n",
        "  vals.sort(key=lambda x:x[1])\n",
        "  return [vals[0][0],vals[-1][0]]\n",
        ""
      ],
      "metadata": {
        "id": "K_-nkOiH6fm_"
      },
      "execution_count": 44,
      "outputs": []
    },
    {
      "cell_type": "code",
      "source": [
        "f=x**3-12*x"
      ],
      "metadata": {
        "id": "5cCgUL5q77gp"
      },
      "execution_count": 45,
      "outputs": []
    },
    {
      "cell_type": "code",
      "source": [
        "f"
      ],
      "metadata": {
        "colab": {
          "base_uri": "https://localhost:8080/",
          "height": 39
        },
        "id": "BHP-lOse8FBE",
        "outputId": "6d644605-2a65-43ad-8273-46b89eef9985"
      },
      "execution_count": 46,
      "outputs": [
        {
          "output_type": "execute_result",
          "data": {
            "text/plain": [
              "x**3 - 12*x"
            ],
            "text/latex": "$\\displaystyle x^{3} - 12 x$"
          },
          "metadata": {},
          "execution_count": 46
        }
      ]
    },
    {
      "cell_type": "code",
      "source": [
        "minima,maxima=extremas(f,-3,5)\n",
        "print(minima)\n",
        "print(maxima)"
      ],
      "metadata": {
        "colab": {
          "base_uri": "https://localhost:8080/"
        },
        "id": "T6W6gFQT8FaW",
        "outputId": "f374cbc4-830a-4589-ef77-55a9842ae077"
      },
      "execution_count": 49,
      "outputs": [
        {
          "output_type": "stream",
          "name": "stdout",
          "text": [
            "2\n",
            "5\n"
          ]
        }
      ]
    },
    {
      "cell_type": "code",
      "source": [],
      "metadata": {
        "id": "wrTuv13a8KDR"
      },
      "execution_count": null,
      "outputs": []
    }
  ]
}